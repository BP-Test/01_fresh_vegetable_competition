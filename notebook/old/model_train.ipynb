{
 "cells": [
  {
   "cell_type": "markdown",
   "metadata": {},
   "source": [
    "# モデルの学習・テストデータによる出力"
   ]
  },
  {
   "cell_type": "code",
   "execution_count": 106,
   "metadata": {},
   "outputs": [],
   "source": [
    "# 設定\n",
    "import sys\n",
    "sys.path.append('../src/')      # import 用のパスの追加\n",
    "sys.dont_write_bytecode = True  # __pycache__ 生成を防ぐ\n",
    "\n",
    "# 標準\n",
    "import pandas as pd\n",
    "import numpy as np\n",
    "\n",
    "# データ加工用\n",
    "from sklearn.preprocessing import StandardScaler\n",
    "from sklearn.preprocessing import LabelEncoder\n",
    "from collections import defaultdict\n",
    "\n",
    "# モデル学習\n",
    "from sklearn.model_selection import train_test_split # データセット分割用\n",
    "\n",
    "# メトリクス\n",
    "from sklearn.metrics import mean_squared_error # モデル評価用(平均二乗誤差)\n",
    "from sklearn.metrics import r2_score # モデル評価用(決定係数)\n",
    "\n",
    "# モデル\n",
    "import lightgbm as lgb #LightGBM\n",
    "from lightgbm_tips import ModelExtractionCallback\n"
   ]
  },
  {
   "cell_type": "markdown",
   "metadata": {},
   "source": [
    "### データの読み込み & 目的変数の作成"
   ]
  },
  {
   "cell_type": "code",
   "execution_count": 107,
   "metadata": {},
   "outputs": [],
   "source": [
    "train = pd.read_csv('../data/processed_train_df.csv', encoding = 'SHIFT-JIS')\n",
    "\n",
    "input_Y = train['mode_price'].to_numpy()\n",
    "train_X = train.drop('mode_price', axis = 1)"
   ]
  },
  {
   "cell_type": "markdown",
   "metadata": {},
   "source": [
    "### 説明変数の作成\n",
    "\n",
    "* todo\n",
    "  * 定性的な情報をカテゴリ変数に変換"
   ]
  },
  {
   "cell_type": "code",
   "execution_count": 108,
   "metadata": {},
   "outputs": [
    {
     "name": "stdout",
     "output_type": "stream",
     "text": [
      "True\n"
     ]
    }
   ],
   "source": [
    "# 日付をindexに設定\n",
    "if 'date' in train_X.columns:\n",
    "    train_X.set_index('date', inplace=True)\n",
    "\n",
    "# 連続変数を標準化\n",
    "scaler = StandardScaler()\n",
    "Continuous_train_array = scaler.fit_transform(train_X.select_dtypes(['float', 'int']))\n",
    "\n",
    "# カテゴリ変数の作成\n",
    "Label_dict = defaultdict(LabelEncoder)\n",
    "Discrete_train_array = train_X.select_dtypes(exclude=['float', 'int']).apply(lambda x: Label_dict[x.name].fit_transform(x), axis =0).to_numpy()\n",
    "\n",
    "# 入力変数の作成\n",
    "input_X = np.concatenate([Continuous_train_array, Discrete_train_array], axis = 1)\n",
    "\n",
    "# 変換内容の確認\n",
    "print(input_X.shape == train_X.shape)"
   ]
  },
  {
   "cell_type": "markdown",
   "metadata": {},
   "source": [
    "### トレーニングデータ,テストデータの分割"
   ]
  },
  {
   "cell_type": "code",
   "execution_count": 109,
   "metadata": {},
   "outputs": [],
   "source": [
    "X_train, X_test, y_train, y_test = train_test_split(input_X, input_Y, test_size=0.20, random_state=2)"
   ]
  },
  {
   "cell_type": "markdown",
   "metadata": {},
   "source": [
    "### モデルの学習\n",
    "\n",
    "\n",
    "#### 一般的なモデルの学習方法"
   ]
  },
  {
   "cell_type": "code",
   "execution_count": 110,
   "metadata": {},
   "outputs": [],
   "source": [
    "# モデルの学習\n",
    "model = lgb.LGBMRegressor() # モデルのインスタンスの作成\n",
    "model.fit(X_train, y_train) # モデルの学習\n",
    "\n",
    "# テストデータの予測\n",
    "y_pred = model.predict(X_test)"
   ]
  },
  {
   "cell_type": "markdown",
   "metadata": {},
   "source": [
    "#### CVを使った学習"
   ]
  },
  {
   "cell_type": "code",
   "execution_count": 111,
   "metadata": {},
   "outputs": [],
   "source": [
    "# LightGBM 用のデータセット表現に直す\n",
    "lgb_train = lgb.Dataset(X_train, y_train)\n",
    "\n",
    "# 学習済みモデルを取り出すためのコールバックを用意する\n",
    "extraction_cb = ModelExtractionCallback()\n",
    "callbacks = [\n",
    "    extraction_cb,\n",
    "]\n",
    "\n",
    "# データセットを 5-Fold CV で学習する\n",
    "lgbm_params = {\n",
    "    'objective': 'regression',\n",
    "    'verbose': -1\n",
    "    }\n",
    "\n",
    "# 交差検証の結果を確認する\n",
    "lgb.cv(lgbm_params,\n",
    "        lgb_train,\n",
    "        num_boost_round=1000,\n",
    "        early_stopping_rounds=10,\n",
    "        nfold=3,\n",
    "        shuffle=True,\n",
    "        stratified=False,\n",
    "        seed=42,\n",
    "        callbacks=callbacks,\n",
    "        )\n",
    "\n",
    "# コールバックのオブジェクトから学習済みモデルを取り出す\n",
    "proxy = extraction_cb.boosters_proxy\n",
    "boosters = extraction_cb.raw_boosters\n",
    "best_iteration = extraction_cb.best_iteration"
   ]
  },
  {
   "cell_type": "code",
   "execution_count": 112,
   "metadata": {},
   "outputs": [
    {
     "name": "stdout",
     "output_type": "stream",
     "text": [
      "Averaging accuracy: 55.99948823657205\n"
     ]
    }
   ],
   "source": [
    "# 各モデルの推論結果を Averaging する場合\n",
    "y_pred_proba_list = proxy.predict(X_test, num_iteration=best_iteration)\n",
    "y_pred = np.array(y_pred_proba_list).mean(axis=0)\n",
    "\n",
    "# 精度計算\n",
    "accuracy = np.sqrt(np.mean(((y_pred - y_test) / y_test)**2))*100\n",
    "print('Averaging accuracy:', accuracy)"
   ]
  },
  {
   "cell_type": "code",
   "execution_count": 113,
   "metadata": {},
   "outputs": [
    {
     "name": "stdout",
     "output_type": "stream",
     "text": [
      "Model 0 accuracy: 63.301106285999765\n",
      "Model 1 accuracy: 64.54793254737056\n",
      "Model 2 accuracy: 59.615788267452594\n"
     ]
    }
   ],
   "source": [
    "# 各モデルで個別に推論する場合\n",
    "for i, booster in enumerate(boosters):\n",
    "    y_pred = booster.predict(X_test,num_iteration=best_iteration)\n",
    "    \n",
    "    accuracy = accuracy = np.sqrt(np.mean(((y_pred - y_test) / y_test)**2))*100\n",
    "    print('Model {0} accuracy: {1}'.format(i, accuracy))"
   ]
  },
  {
   "cell_type": "code",
   "execution_count": null,
   "metadata": {},
   "outputs": [],
   "source": []
  }
 ],
 "metadata": {
  "kernelspec": {
   "display_name": "Python 3.8.13 ('conda_py38')",
   "language": "python",
   "name": "python3"
  },
  "language_info": {
   "codemirror_mode": {
    "name": "ipython",
    "version": 3
   },
   "file_extension": ".py",
   "mimetype": "text/x-python",
   "name": "python",
   "nbconvert_exporter": "python",
   "pygments_lexer": "ipython3",
   "version": "3.8.13"
  },
  "orig_nbformat": 4,
  "vscode": {
   "interpreter": {
    "hash": "3bde98ef8fa1e663dc229e7ead5f65fddc164c0dab2fc22d4e7d4daf7dcee8d2"
   }
  }
 },
 "nbformat": 4,
 "nbformat_minor": 2
}
