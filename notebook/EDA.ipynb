{
 "cells": [
  {
   "cell_type": "markdown",
   "metadata": {},
   "source": [
    "# EDAの結果メモ\n",
    "\n",
    "## Summary:\n",
    "\n",
    "### 参考データ：\n",
    "* [東京都中央卸売市場日報](https://www.shijou-nippo.metro.tokyo.lg.jp/)\n",
    "* [気象庁より気象情報](https://www.data.jma.go.jp/obd/stats/etrn/)\n",
    "* \n",
    "\n",
    "### Points\n",
    "* どの時点での気象が影響する可能性があるのか\n",
    "* 気象情報をどのようにデータに入れていくのか\n",
    "  * step1：全国平均 + (北海道・千葉・神奈川・茨城・青森) を変数に入れる\n",
    "  * step2：産地の組み合わせパターンを変数に入れる\n",
    "  * step3：各産地で価格の予測を行う\n",
    "\n",
    "\n",
    "### Knowledge\n",
    "* trainのみに含まれる野菜がある\n"
   ]
  },
  {
   "cell_type": "code",
   "execution_count": 370,
   "metadata": {},
   "outputs": [],
   "source": [
    "%matplotlib inline\n",
    "import matplotlib\n",
    "import matplotlib.pyplot as plt\n",
    "matplotlib.rc('font', family='BIZ UDGothic')\n",
    "\n",
    "import pandas as pd\n",
    "\n",
    "from sklearn.experimental import enable_iterative_imputer\n",
    "from sklearn.impute import IterativeImputer\n"
   ]
  },
  {
   "cell_type": "code",
   "execution_count": 371,
   "metadata": {},
   "outputs": [],
   "source": [
    "WorkPath = \"../data/\"\n",
    "train_df = pd.read_csv(WorkPath + 'train.csv')\n",
    "test_df = pd.read_csv(WorkPath + 'test.csv')\n",
    "weather = pd.read_csv(WorkPath + 'weather.csv')"
   ]
  },
  {
   "cell_type": "markdown",
   "metadata": {},
   "source": [
    "### 各日付で各野菜は1種類のみ提示"
   ]
  },
  {
   "cell_type": "code",
   "execution_count": 414,
   "metadata": {},
   "outputs": [
    {
     "data": {
      "text/plain": [
       "amount        0\n",
       "mode_price    0\n",
       "area          0\n",
       "dtype: int64"
      ]
     },
     "execution_count": 414,
     "metadata": {},
     "output_type": "execute_result"
    }
   ],
   "source": [
    "# 日付と野菜種類でグループ化 -> カウント数が1以外の物はない（重複報告がない）ことを確認\n",
    "(train_df.groupby(['date', 'kind']).count() != 1).sum()"
   ]
  },
  {
   "cell_type": "markdown",
   "metadata": {},
   "source": [
    "### 野菜の種類"
   ]
  },
  {
   "cell_type": "code",
   "execution_count": 372,
   "metadata": {},
   "outputs": [
    {
     "name": "stdout",
     "output_type": "stream",
     "text": [
      "訓練データの野菜の種類：44\n",
      "検証データの野菜の種類：16\n",
      "共通野菜種類：16\n",
      "{'レタス', 'そらまめ', 'にんじん', 'ミニトマト', 'ねぎ', 'じゃがいも', 'こまつな', 'はくさい', 'ピーマン', 'だいこん', 'キャベツ', 'なましいたけ', 'ほうれんそう', 'トマト', 'きゅうり', 'セルリー'}\n"
     ]
    }
   ],
   "source": [
    "print(\"訓練データの野菜の種類：\" + str(len(set(train_df.kind))))\n",
    "print(\"検証データの野菜の種類：\" + str(len(set(test_df.kind))))\n",
    "common_set = set(train_df.kind)&set(test_df.kind)\n",
    "print(\"共通野菜種類：\" + str(len(common_set)))\n",
    "print(common_set)\n",
    "\n",
    "# 以下では共通の野菜のみを分析対象にする\n",
    "train_df = train_df[train_df.kind.isin(common_set)].reset_index(drop=True).sort_values(by = 'date')\n",
    "\n",
    "# datetimeに変換\n",
    "train_df.date = pd.to_datetime(train_df.date.astype(str))\n",
    "weather.date = pd.to_datetime(weather.date.astype(str))"
   ]
  },
  {
   "cell_type": "markdown",
   "metadata": {},
   "source": [
    "### 欠損状況の確認"
   ]
  },
  {
   "cell_type": "code",
   "execution_count": 373,
   "metadata": {},
   "outputs": [
    {
     "data": {
      "text/plain": [
       "kind          0\n",
       "date          0\n",
       "amount        0\n",
       "mode_price    0\n",
       "area          0\n",
       "dtype: int64"
      ]
     },
     "execution_count": 373,
     "metadata": {},
     "output_type": "execute_result"
    }
   ],
   "source": [
    "# 訓練データに欠損はない\n",
    "train_df.isna().sum()"
   ]
  },
  {
   "cell_type": "markdown",
   "metadata": {},
   "source": [
    "### 野菜の値段感"
   ]
  },
  {
   "cell_type": "code",
   "execution_count": 374,
   "metadata": {},
   "outputs": [
    {
     "data": {
      "text/html": [
       "<div>\n",
       "<style scoped>\n",
       "    .dataframe tbody tr th:only-of-type {\n",
       "        vertical-align: middle;\n",
       "    }\n",
       "\n",
       "    .dataframe tbody tr th {\n",
       "        vertical-align: top;\n",
       "    }\n",
       "\n",
       "    .dataframe thead th {\n",
       "        text-align: right;\n",
       "    }\n",
       "</style>\n",
       "<table border=\"1\" class=\"dataframe\">\n",
       "  <thead>\n",
       "    <tr style=\"text-align: right;\">\n",
       "      <th></th>\n",
       "      <th>平均値段ランキング：</th>\n",
       "      <th>最高値段ランキング：</th>\n",
       "      <th>最低値段ランキング：</th>\n",
       "      <th>値段幅ランキング：</th>\n",
       "    </tr>\n",
       "  </thead>\n",
       "  <tbody>\n",
       "    <tr>\n",
       "      <th>0</th>\n",
       "      <td>セルリー:2584.674410698096</td>\n",
       "      <td>レタス:7776.0</td>\n",
       "      <td>セルリー:1155.0</td>\n",
       "      <td>レタス:7487.0</td>\n",
       "    </tr>\n",
       "    <tr>\n",
       "      <th>1</th>\n",
       "      <td>じゃがいも:2096.550217093236</td>\n",
       "      <td>ねぎ:7087.5</td>\n",
       "      <td>そらまめ:630.0</td>\n",
       "      <td>ねぎ:6547.5</td>\n",
       "    </tr>\n",
       "    <tr>\n",
       "      <th>2</th>\n",
       "      <td>そらまめ:2067.8519924098673</td>\n",
       "      <td>セルリー:5832.0</td>\n",
       "      <td>ねぎ:540.0</td>\n",
       "      <td>じゃがいも:4875.0</td>\n",
       "    </tr>\n",
       "    <tr>\n",
       "      <th>3</th>\n",
       "      <td>レタス:1792.3067481160083</td>\n",
       "      <td>じゃがいも:5400.0</td>\n",
       "      <td>きゅうり:525.0</td>\n",
       "      <td>セルリー:4677.0</td>\n",
       "    </tr>\n",
       "    <tr>\n",
       "      <th>4</th>\n",
       "      <td>きゅうり:1667.792760904316</td>\n",
       "      <td>きゅうり:5040.0</td>\n",
       "      <td>じゃがいも:525.0</td>\n",
       "      <td>にんじん:4548.0</td>\n",
       "    </tr>\n",
       "    <tr>\n",
       "      <th>5</th>\n",
       "      <td>ねぎ:1664.451415848367</td>\n",
       "      <td>にんじん:4968.0</td>\n",
       "      <td>トマト:525.0</td>\n",
       "      <td>きゅうり:4515.0</td>\n",
       "    </tr>\n",
       "    <tr>\n",
       "      <th>6</th>\n",
       "      <td>トマト:1446.9753368348938</td>\n",
       "      <td>はくさい:4104.0</td>\n",
       "      <td>だいこん:420.0</td>\n",
       "      <td>はくさい:3789.0</td>\n",
       "    </tr>\n",
       "    <tr>\n",
       "      <th>7</th>\n",
       "      <td>にんじん:1434.4553612254228</td>\n",
       "      <td>そらまめ:3990.0</td>\n",
       "      <td>にんじん:420.0</td>\n",
       "      <td>そらまめ:3360.0</td>\n",
       "    </tr>\n",
       "    <tr>\n",
       "      <th>8</th>\n",
       "      <td>はくさい:1095.4352021009363</td>\n",
       "      <td>トマト:3564.0</td>\n",
       "      <td>はくさい:315.0</td>\n",
       "      <td>キャベツ:3141.0</td>\n",
       "    </tr>\n",
       "    <tr>\n",
       "      <th>9</th>\n",
       "      <td>キャベツ:965.657113496232</td>\n",
       "      <td>キャベツ:3456.0</td>\n",
       "      <td>キャベツ:315.0</td>\n",
       "      <td>トマト:3039.0</td>\n",
       "    </tr>\n",
       "    <tr>\n",
       "      <th>10</th>\n",
       "      <td>だいこん:961.9522285714286</td>\n",
       "      <td>だいこん:2730.0</td>\n",
       "      <td>レタス:289.0</td>\n",
       "      <td>だいこん:2310.0</td>\n",
       "    </tr>\n",
       "    <tr>\n",
       "      <th>11</th>\n",
       "      <td>ミニトマト:146.54277041942606</td>\n",
       "      <td>こまつな:739.5</td>\n",
       "      <td>ミニトマト:75.5</td>\n",
       "      <td>こまつな:718.5</td>\n",
       "    </tr>\n",
       "    <tr>\n",
       "      <th>12</th>\n",
       "      <td>こまつな:137.46992223238792</td>\n",
       "      <td>ミニトマト:486.0</td>\n",
       "      <td>なましいたけ:65.0</td>\n",
       "      <td>ミニトマト:410.5</td>\n",
       "    </tr>\n",
       "    <tr>\n",
       "      <th>13</th>\n",
       "      <td>なましいたけ:135.0401491253226</td>\n",
       "      <td>ほうれんそう:273.0</td>\n",
       "      <td>ほうれんそう:32.0</td>\n",
       "      <td>ほうれんそう:241.0</td>\n",
       "    </tr>\n",
       "    <tr>\n",
       "      <th>14</th>\n",
       "      <td>ほうれんそう:114.6843886212434</td>\n",
       "      <td>なましいたけ:270.0</td>\n",
       "      <td>こまつな:21.0</td>\n",
       "      <td>なましいたけ:205.0</td>\n",
       "    </tr>\n",
       "    <tr>\n",
       "      <th>15</th>\n",
       "      <td>ピーマン:77.2552</td>\n",
       "      <td>ピーマン:171.0</td>\n",
       "      <td>ピーマン:21.0</td>\n",
       "      <td>ピーマン:150.0</td>\n",
       "    </tr>\n",
       "  </tbody>\n",
       "</table>\n",
       "</div>"
      ],
      "text/plain": [
       "                  平均値段ランキング：    最高値段ランキング：   最低値段ランキング：     値段幅ランキング：\n",
       "0     セルリー:2584.674410698096    レタス:7776.0  セルリー:1155.0    レタス:7487.0\n",
       "1    じゃがいも:2096.550217093236     ねぎ:7087.5   そらまめ:630.0     ねぎ:6547.5\n",
       "2    そらまめ:2067.8519924098673   セルリー:5832.0     ねぎ:540.0  じゃがいも:4875.0\n",
       "3     レタス:1792.3067481160083  じゃがいも:5400.0   きゅうり:525.0   セルリー:4677.0\n",
       "4     きゅうり:1667.792760904316   きゅうり:5040.0  じゃがいも:525.0   にんじん:4548.0\n",
       "5       ねぎ:1664.451415848367   にんじん:4968.0    トマト:525.0   きゅうり:4515.0\n",
       "6     トマト:1446.9753368348938   はくさい:4104.0   だいこん:420.0   はくさい:3789.0\n",
       "7    にんじん:1434.4553612254228   そらまめ:3990.0   にんじん:420.0   そらまめ:3360.0\n",
       "8    はくさい:1095.4352021009363    トマト:3564.0   はくさい:315.0   キャベツ:3141.0\n",
       "9      キャベツ:965.657113496232   キャベツ:3456.0   キャベツ:315.0    トマト:3039.0\n",
       "10    だいこん:961.9522285714286   だいこん:2730.0    レタス:289.0   だいこん:2310.0\n",
       "11  ミニトマト:146.54277041942606    こまつな:739.5   ミニトマト:75.5    こまつな:718.5\n",
       "12   こまつな:137.46992223238792   ミニトマト:486.0  なましいたけ:65.0   ミニトマト:410.5\n",
       "13  なましいたけ:135.0401491253226  ほうれんそう:273.0  ほうれんそう:32.0  ほうれんそう:241.0\n",
       "14  ほうれんそう:114.6843886212434  なましいたけ:270.0    こまつな:21.0  なましいたけ:205.0\n",
       "15              ピーマン:77.2552    ピーマン:171.0    ピーマン:21.0    ピーマン:150.0"
      ]
     },
     "execution_count": 374,
     "metadata": {},
     "output_type": "execute_result"
    }
   ],
   "source": [
    "MeanPriceRank = train_df.groupby('kind')['mode_price'].mean().sort_values(ascending=False)\n",
    "MaxPriceRank = train_df.groupby('kind')['mode_price'].max().sort_values(ascending=False)\n",
    "MinPriceRank = train_df.groupby('kind')['mode_price'].min().sort_values(ascending=False)\n",
    "RangePriceRank = (\n",
    "    train_df.groupby('kind')['mode_price'].max() - train_df.groupby('kind')['mode_price'].min()\n",
    "    ).sort_values(ascending=False)\n",
    "\n",
    "pd.DataFrame({\n",
    "    \"平均値段ランキング：\" :MeanPriceRank.index + ':' + MeanPriceRank.astype(str).values,\n",
    "    \"最高値段ランキング：\": MaxPriceRank.index + ':' + MaxPriceRank.astype(str).values,\n",
    "    \"最低値段ランキング：\": MinPriceRank.index + ':' + MinPriceRank.astype(str).values,\n",
    "    \"値段幅ランキング：\": RangePriceRank.index + ':' + RangePriceRank.astype(str).values\n",
    "    })"
   ]
  },
  {
   "cell_type": "code",
   "execution_count": 375,
   "metadata": {},
   "outputs": [
    {
     "data": {
      "text/plain": [
       "Text(0.5, 1.0, '値動きの大きい野菜 Top5')"
      ]
     },
     "execution_count": 375,
     "metadata": {},
     "output_type": "execute_result"
    },
    {
     "data": {
      "image/png": "[encoded data removed]",
      "text/plain": [
       "<Figure size 720x720 with 1 Axes>"
      ]
     },
     "metadata": {
      "needs_background": "light"
     },
     "output_type": "display_data"
    }
   ],
   "source": [
    "from matplotlib.pyplot import legend\n",
    "train_df[train_df.kind.isin(RangePriceRank.index[:5])].pivot_table(\n",
    "    values= 'mode_price', \n",
    "    index='date', \n",
    "    columns='kind'\n",
    "    ).plot.line(figsize=(10,10))\n",
    "plt.title('値動きの大きい野菜 Top5')"
   ]
  },
  {
   "cell_type": "markdown",
   "metadata": {},
   "source": [
    "## 気象情報の利用"
   ]
  },
  {
   "cell_type": "code",
   "execution_count": 376,
   "metadata": {},
   "outputs": [
    {
     "data": {
      "text/html": [
       "<div>\n",
       "<style scoped>\n",
       "    .dataframe tbody tr th:only-of-type {\n",
       "        vertical-align: middle;\n",
       "    }\n",
       "\n",
       "    .dataframe tbody tr th {\n",
       "        vertical-align: top;\n",
       "    }\n",
       "\n",
       "    .dataframe thead th {\n",
       "        text-align: right;\n",
       "    }\n",
       "</style>\n",
       "<table border=\"1\" class=\"dataframe\">\n",
       "  <thead>\n",
       "    <tr style=\"text-align: right;\">\n",
       "      <th></th>\n",
       "      <th>0</th>\n",
       "      <th>1</th>\n",
       "      <th>2</th>\n",
       "      <th>3</th>\n",
       "      <th>4</th>\n",
       "      <th>5</th>\n",
       "    </tr>\n",
       "  </thead>\n",
       "  <tbody>\n",
       "    <tr>\n",
       "      <th>レタス</th>\n",
       "      <td>北海道</td>\n",
       "      <td>千葉</td>\n",
       "      <td>各地</td>\n",
       "      <td>神奈川</td>\n",
       "      <td>茨城</td>\n",
       "      <td>青森</td>\n",
       "    </tr>\n",
       "    <tr>\n",
       "      <th>そらまめ</th>\n",
       "      <td>北海道</td>\n",
       "      <td>千葉</td>\n",
       "      <td>各地</td>\n",
       "      <td>神奈川</td>\n",
       "      <td>茨城</td>\n",
       "      <td>青森</td>\n",
       "    </tr>\n",
       "    <tr>\n",
       "      <th>にんじん</th>\n",
       "      <td>北海道</td>\n",
       "      <td>千葉</td>\n",
       "      <td>各地</td>\n",
       "      <td>神奈川</td>\n",
       "      <td>茨城</td>\n",
       "      <td>青森</td>\n",
       "    </tr>\n",
       "    <tr>\n",
       "      <th>ミニトマト</th>\n",
       "      <td>北海道</td>\n",
       "      <td>千葉</td>\n",
       "      <td>各地</td>\n",
       "      <td>神奈川</td>\n",
       "      <td>茨城</td>\n",
       "      <td>青森</td>\n",
       "    </tr>\n",
       "    <tr>\n",
       "      <th>セルリー</th>\n",
       "      <td>北海道</td>\n",
       "      <td>千葉</td>\n",
       "      <td>各地</td>\n",
       "      <td>神奈川</td>\n",
       "      <td>茨城</td>\n",
       "      <td>青森</td>\n",
       "    </tr>\n",
       "    <tr>\n",
       "      <th>ねぎ</th>\n",
       "      <td>北海道</td>\n",
       "      <td>千葉</td>\n",
       "      <td>各地</td>\n",
       "      <td>神奈川</td>\n",
       "      <td>茨城</td>\n",
       "      <td>青森</td>\n",
       "    </tr>\n",
       "    <tr>\n",
       "      <th>じゃがいも</th>\n",
       "      <td>北海道</td>\n",
       "      <td>千葉</td>\n",
       "      <td>各地</td>\n",
       "      <td>神奈川</td>\n",
       "      <td>茨城</td>\n",
       "      <td>青森</td>\n",
       "    </tr>\n",
       "    <tr>\n",
       "      <th>ピーマン</th>\n",
       "      <td>北海道</td>\n",
       "      <td>千葉</td>\n",
       "      <td>各地</td>\n",
       "      <td>神奈川</td>\n",
       "      <td>茨城</td>\n",
       "      <td>青森</td>\n",
       "    </tr>\n",
       "    <tr>\n",
       "      <th>こまつな</th>\n",
       "      <td>北海道</td>\n",
       "      <td>千葉</td>\n",
       "      <td>各地</td>\n",
       "      <td>神奈川</td>\n",
       "      <td>茨城</td>\n",
       "      <td>青森</td>\n",
       "    </tr>\n",
       "    <tr>\n",
       "      <th>はくさい</th>\n",
       "      <td>北海道</td>\n",
       "      <td>千葉</td>\n",
       "      <td>各地</td>\n",
       "      <td>神奈川</td>\n",
       "      <td>茨城</td>\n",
       "      <td>青森</td>\n",
       "    </tr>\n",
       "    <tr>\n",
       "      <th>だいこん</th>\n",
       "      <td>北海道</td>\n",
       "      <td>千葉</td>\n",
       "      <td>各地</td>\n",
       "      <td>神奈川</td>\n",
       "      <td>茨城</td>\n",
       "      <td>青森</td>\n",
       "    </tr>\n",
       "    <tr>\n",
       "      <th>キャベツ</th>\n",
       "      <td>北海道</td>\n",
       "      <td>千葉</td>\n",
       "      <td>各地</td>\n",
       "      <td>神奈川</td>\n",
       "      <td>茨城</td>\n",
       "      <td>青森</td>\n",
       "    </tr>\n",
       "    <tr>\n",
       "      <th>なましいたけ</th>\n",
       "      <td>北海道</td>\n",
       "      <td>千葉</td>\n",
       "      <td>各地</td>\n",
       "      <td>神奈川</td>\n",
       "      <td>茨城</td>\n",
       "      <td>青森</td>\n",
       "    </tr>\n",
       "    <tr>\n",
       "      <th>ほうれんそう</th>\n",
       "      <td>北海道</td>\n",
       "      <td>千葉</td>\n",
       "      <td>各地</td>\n",
       "      <td>神奈川</td>\n",
       "      <td>茨城</td>\n",
       "      <td>青森</td>\n",
       "    </tr>\n",
       "    <tr>\n",
       "      <th>トマト</th>\n",
       "      <td>北海道</td>\n",
       "      <td>千葉</td>\n",
       "      <td>各地</td>\n",
       "      <td>神奈川</td>\n",
       "      <td>茨城</td>\n",
       "      <td>青森</td>\n",
       "    </tr>\n",
       "    <tr>\n",
       "      <th>きゅうり</th>\n",
       "      <td>北海道</td>\n",
       "      <td>千葉</td>\n",
       "      <td>各地</td>\n",
       "      <td>神奈川</td>\n",
       "      <td>茨城</td>\n",
       "      <td>青森</td>\n",
       "    </tr>\n",
       "  </tbody>\n",
       "</table>\n",
       "</div>"
      ],
      "text/plain": [
       "          0   1   2    3   4   5\n",
       "レタス     北海道  千葉  各地  神奈川  茨城  青森\n",
       "そらまめ    北海道  千葉  各地  神奈川  茨城  青森\n",
       "にんじん    北海道  千葉  各地  神奈川  茨城  青森\n",
       "ミニトマト   北海道  千葉  各地  神奈川  茨城  青森\n",
       "セルリー    北海道  千葉  各地  神奈川  茨城  青森\n",
       "ねぎ      北海道  千葉  各地  神奈川  茨城  青森\n",
       "じゃがいも   北海道  千葉  各地  神奈川  茨城  青森\n",
       "ピーマン    北海道  千葉  各地  神奈川  茨城  青森\n",
       "こまつな    北海道  千葉  各地  神奈川  茨城  青森\n",
       "はくさい    北海道  千葉  各地  神奈川  茨城  青森\n",
       "だいこん    北海道  千葉  各地  神奈川  茨城  青森\n",
       "キャベツ    北海道  千葉  各地  神奈川  茨城  青森\n",
       "なましいたけ  北海道  千葉  各地  神奈川  茨城  青森\n",
       "ほうれんそう  北海道  千葉  各地  神奈川  茨城  青森\n",
       "トマト     北海道  千葉  各地  神奈川  茨城  青森\n",
       "きゅうり    北海道  千葉  各地  神奈川  茨城  青森"
      ]
     },
     "execution_count": 376,
     "metadata": {},
     "output_type": "execute_result"
    }
   ],
   "source": [
    "# 各野菜に登場するエリア情報\n",
    "# （基本的には北海道・千葉・神奈川・茨城・青森の5つ + 全国）\n",
    "pd.DataFrame({\n",
    "    k : sorted(set(pd.Series(train_df[train_df.kind == \"だいこん\"].area.unique()).str.split(\"_\").sum())) \n",
    "    for k in set(train_df.kind)\n",
    "    }).T\n"
   ]
  },
  {
   "cell_type": "markdown",
   "metadata": {},
   "source": [
    "### 欠損状況"
   ]
  },
  {
   "cell_type": "code",
   "execution_count": 377,
   "metadata": {},
   "outputs": [
    {
     "data": {
      "text/plain": [
       "date               0\n",
       "mean_temp        367\n",
       "max_temp         367\n",
       "max_temp_time    367\n",
       "min_temp         368\n",
       "min_temp_time    368\n",
       "sum_rain         369\n",
       "sun_time         432\n",
       "mean_humid       398\n",
       "area               0\n",
       "dtype: int64"
      ]
     },
     "execution_count": 377,
     "metadata": {},
     "output_type": "execute_result"
    }
   ],
   "source": [
    "weather.isna().sum()"
   ]
  },
  {
   "cell_type": "code",
   "execution_count": 378,
   "metadata": {},
   "outputs": [],
   "source": [
    "# 欠損補完（ベイジアンブリッジ）\n",
    "weather = pd.concat(\n",
    "    [\n",
    "        pd.DataFrame(\n",
    "            IterativeImputer().fit_transform(weather.select_dtypes(float).to_numpy()),\n",
    "            columns = weather.head().select_dtypes(float).columns\n",
    "            ),\n",
    "        weather.select_dtypes(exclude=float)\n",
    "    ],\n",
    "    axis = 1\n",
    "    )"
   ]
  },
  {
   "cell_type": "markdown",
   "metadata": {},
   "source": [
    "### 接続に利用するキー（エリア名）の確認"
   ]
  },
  {
   "cell_type": "code",
   "execution_count": 379,
   "metadata": {},
   "outputs": [
    {
     "name": "stdout",
     "output_type": "stream",
     "text": [
      "{'高知', '秋田', '長崎', '山形', '神戸', '盛岡', '仙台', '千葉', '名古屋', '松山', '浜松', '青森', '徳島', '東京', '前橋', '和歌山', '那覇', '熊谷', '福岡', '宇都宮', '横浜', '佐賀', '甲府', '帯広', '福島', '長野', '高松', '鹿児島', '宮崎', '熊本', '新潟', '水戸'}\n"
     ]
    }
   ],
   "source": [
    "# 県名で入っているケースは少ない\n",
    "print(set(weather.area))"
   ]
  },
  {
   "cell_type": "code",
   "execution_count": 380,
   "metadata": {},
   "outputs": [],
   "source": [
    "AllRegionAVG = weather.drop(columns=['area', 'min_temp_time', 'max_temp_time']).groupby(\"date\").mean()\n",
    "AllRegionMAX = weather.drop(columns=['area', 'min_temp_time', 'max_temp_time']).groupby(\"date\").max()\n",
    "AllRegionMIN = weather.drop(columns=['area', 'min_temp_time', 'max_temp_time']).groupby(\"date\").min()\n",
    "\n",
    "AllRegionAVG.set_axis(\"AVG_\" + AllRegionAVG.columns, axis =1, inplace=True)\n",
    "AllRegionMAX.set_axis(\"MAX_\" + AllRegionMAX.columns, axis =1, inplace=True)\n",
    "AllRegionMIN.set_axis(\"MIN_\" + AllRegionMIN.columns, axis =1, inplace=True)\n",
    "\n",
    "AllRegionInfo = pd.concat([\n",
    "    AllRegionAVG,\n",
    "    AllRegionMAX,\n",
    "    AllRegionMIN\n",
    "], axis =1)"
   ]
  },
  {
   "cell_type": "code",
   "execution_count": 385,
   "metadata": {},
   "outputs": [],
   "source": [
    "# 各地、全国の気象情報\n",
    "RegionInfo = pd.concat(\n",
    "    [\n",
    "    weather[\n",
    "        weather.area.isin([\"帯広\", \"千葉\", \"横浜\", \"水戸\", \"青森\"])\n",
    "        ]\n",
    "    .pivot_table(values = col_name, index ='date', columns = 'area')\n",
    "    .set_axis(\n",
    "        col_name + '_'+ pd.Series([\"北海道\", \"千葉\", \"神奈川\", \"茨城\", \"青森\"]), \n",
    "        axis = 1\n",
    "        ) for col_name in weather.head().select_dtypes(include='float').columns\n",
    "    ] + [AllRegionInfo], # 全国の情報も追加,\n",
    "    axis=1\n",
    "    )"
   ]
  },
  {
   "cell_type": "code",
   "execution_count": 401,
   "metadata": {},
   "outputs": [
    {
     "name": "stdout",
     "output_type": "stream",
     "text": [
      "マージ成功\n"
     ]
    }
   ],
   "source": [
    "# 訓練データに気象情報をマージ\n",
    "train = pd.merge(train_df.set_index('date'), RegionInfo, left_index = True, right_index = True, how = 'left')\n",
    "\n",
    "# マージの確認\n",
    "if (train.index != train_df.set_index('date').index).sum() == 0:\n",
    "    print(\"マージ成功\")"
   ]
  },
  {
   "cell_type": "markdown",
   "metadata": {},
   "source": [
    "# 加工済みデータを保存"
   ]
  },
  {
   "cell_type": "code",
   "execution_count": 416,
   "metadata": {},
   "outputs": [],
   "source": [
    "train.to_csv('../data/processed_train_df.csv', encoding = 'SHIFT-JIS')"
   ]
  },
  {
   "cell_type": "code",
   "execution_count": null,
   "metadata": {},
   "outputs": [],
   "source": []
  }
 ],
 "metadata": {
  "kernelspec": {
   "display_name": "Python 3.8.13 ('conda_py38')",
   "language": "python",
   "name": "python3"
  },
  "language_info": {
   "codemirror_mode": {
    "name": "ipython",
    "version": 3
   },
   "file_extension": ".py",
   "mimetype": "text/x-python",
   "name": "python",
   "nbconvert_exporter": "python",
   "pygments_lexer": "ipython3",
   "version": "3.8.13"
  },
  "orig_nbformat": 4,
  "vscode": {
   "interpreter": {
    "hash": "3bde98ef8fa1e663dc229e7ead5f65fddc164c0dab2fc22d4e7d4daf7dcee8d2"
   }
  }
 },
 "nbformat": 4,
 "nbformat_minor": 2
}
