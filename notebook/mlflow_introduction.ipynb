{
 "cells": [
  {
   "cell_type": "markdown",
   "metadata": {},
   "source": [
    "# MLflowの導入について\n",
    "ローカル環境上にmlflowを導入する方法をリサーチする\n",
    "\n",
    "## 参考\n",
    "* [サーバー構築手順 (Qita)](https://qiita.com/c60evaporator/items/e1fd57a0263a19b629d1#%E3%82%B7%E3%83%8A%E3%83%AA%E3%82%AA2-mlflow-on-localhost-with-sqlite)\n",
    "\n",
    "## 用語メモ\n",
    "\n",
    "* Run\n",
    "  * 一回の試行（実験、学習、前処理、etc）\n",
    "* Experiment\n",
    "  * Runを束ねるグループ\n",
    "  * 格納先は、ローカルファイル or HTTPリモートサーバ or DB\n",
    "* Artifact\n",
    "  * Runで得られた出力や中間生成物の保管先\n",
    "  * 格納先は、ローカルファイル or S3\n",
    "\n",
    "| 名称            | 機能                                            | 指定できるサービス                                    |\n",
    "| ------------- | --------------------------------------------- | -------------------------------------------- |\n",
    "| バックエンド        | ParametersやMetrics等の主要データを保存                  | ファイルストレージ, DB                      |\n",
    "| Artifactストレージ | Artifact（テーブルデータや画像等の非構造化データ）を保存する            | ファイルストレージ, FTPサーバ, クラウド（S3等）, etc. |\n",
    "| レジストリサーバ      | モデルとバージョン情報を保持する（MLflow Model Registryの設定が必要） | ファイルストレージ, DB等                               |\n"
   ]
  },
  {
   "cell_type": "code",
   "execution_count": 1,
   "metadata": {},
   "outputs": [],
   "source": [
    "import mlflow\n",
    "import sqlite3\n",
    "import os"
   ]
  },
  {
   "cell_type": "code",
   "execution_count": 4,
   "metadata": {},
   "outputs": [],
   "source": [
    "# 各種設定\n",
    "\n",
    "DB_PATH= '../server/mlruns.db'\n",
    "ARTIFACT_LOCATION = '../data/'\n",
    "EXPERIMENT_NAME = '01_mlflow_test'"
   ]
  },
  {
   "cell_type": "markdown",
   "metadata": {},
   "source": [
    "## トラッキングサーバーの作成"
   ]
  },
  {
   "cell_type": "code",
   "execution_count": 5,
   "metadata": {},
   "outputs": [],
   "source": [
    "# サーバーの作成\n",
    "os.makedirs(os.path.dirname(DB_PATH), exist_ok=True)  # 親ディレクトリなければ作成\n",
    "conn = sqlite3.connect(DB_PATH)  # バックエンド用DBを作成\n",
    "\n",
    "# トラッキングサーバの（バックエンドの）場所を指定\n",
    "TRACKING_URL = f'sqlite:///{DB_PATH}'\n",
    "mlflow.set_tracking_uri(TRACKING_URL)"
   ]
  },
  {
   "cell_type": "code",
   "execution_count": 8,
   "metadata": {},
   "outputs": [],
   "source": [
    "# Experimentの生成\n",
    "experiment = mlflow.get_experiment_by_name(EXPERIMENT_NAME)\n",
    "\n",
    "# experiment IDの取得\n",
    "if experiment is None:\n",
    "    # 当該Experiment存在しないとき、新たに作成\n",
    "    experiment_id = mlflow.create_experiment(\n",
    "                            name=EXPERIMENT_NAME,\n",
    "                            artifact_location=ARTIFACT_LOCATION)\n",
    "else:\n",
    "    # 当該Experiment存在するとき、IDを取得\n",
    "    experiment_id = experiment.experiment_id"
   ]
  },
  {
   "cell_type": "markdown",
   "metadata": {},
   "source": [
    "## 実験管理\n",
    "\n",
    "以下を参考：\n",
    "[mlflowで取得できるログ一覧](https://qiita.com/c60evaporator/items/e0eb1a0c521d1310d95d#%E6%89%8B%E9%A0%863-%E3%82%A8%E3%82%AF%E3%82%B9%E3%83%9A%E3%83%AA%E3%83%A1%E3%83%B3%E3%83%88%E3%81%AE%E4%BD%9C%E6%88%90)\n"
   ]
  },
  {
   "cell_type": "code",
   "execution_count": 12,
   "metadata": {},
   "outputs": [],
   "source": [
    "with mlflow.start_run(experiment_id=experiment_id) as run:\n",
    "    \n",
    "    # パラメータを記録\n",
    "    mlflow.log_params(\n",
    "        {\n",
    "            'name' : 0,\n",
    "            'name' : 0\n",
    "            }\n",
    "        )\n",
    "    \n",
    "    # メトリクスを記録\n",
    "    mlflow.log_params(\n",
    "        {\n",
    "            'name' : 0,\n",
    "            'name' : 0\n",
    "            }\n",
    "        )\n",
    "    "
   ]
  },
  {
   "cell_type": "markdown",
   "metadata": {},
   "source": [
    "# ターミナル上で以下のコマンドでuiを立ち上げる\n",
    "\n",
    "cd server\n",
    "\n",
    "mlflow ui --backend-store-uri sqlite:///mlruns.db"
   ]
  },
  {
   "cell_type": "code",
   "execution_count": null,
   "metadata": {},
   "outputs": [],
   "source": []
  }
 ],
 "metadata": {
  "kernelspec": {
   "display_name": "Python 3.8.13 ('conda_py38')",
   "language": "python",
   "name": "python3"
  },
  "language_info": {
   "codemirror_mode": {
    "name": "ipython",
    "version": 3
   },
   "file_extension": ".py",
   "mimetype": "text/x-python",
   "name": "python",
   "nbconvert_exporter": "python",
   "pygments_lexer": "ipython3",
   "version": "3.8.13"
  },
  "orig_nbformat": 4,
  "vscode": {
   "interpreter": {
    "hash": "3bde98ef8fa1e663dc229e7ead5f65fddc164c0dab2fc22d4e7d4daf7dcee8d2"
   }
  }
 },
 "nbformat": 4,
 "nbformat_minor": 2
}
