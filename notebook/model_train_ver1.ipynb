{
 "cells": [
  {
   "cell_type": "code",
   "execution_count": 2,
   "metadata": {},
   "outputs": [],
   "source": [
    "import sys\n",
    "sys.path.append('../src/')\n",
    "sys.dont_write_bytecode = True  # __pycache__ 生成を防ぐ\n",
    "\n",
    "from train import Model, Experiments\n",
    "from vege_train import TrainModel\n",
    "\n",
    "\n",
    "# default\n",
    "import numpy as np\n",
    "import pandas as pd\n",
    "\n",
    "# Manage experiments\n",
    "import mlflow\n",
    "\n",
    "# For training\n",
    "from sklearn.metrics import mean_absolute_error\n",
    "from sklearn.model_selection import KFold\n",
    "from sklearn.model_selection import train_test_split\n",
    "\n",
    "# import model framework\n",
    "import lightgbm as lgb\n",
    "\n",
    "\n",
    "# mlflow setting\n",
    "DB_PATH = '../server/mlruns.db'\n",
    "ARTIFACT_LOCATION = '../data/'\n",
    "EXPERIMENT_NAME = '02_model_train'\n"
   ]
  },
  {
   "cell_type": "markdown",
   "metadata": {},
   "source": [
    "## データ生成"
   ]
  },
  {
   "cell_type": "code",
   "execution_count": 3,
   "metadata": {},
   "outputs": [
    {
     "name": "stdout",
     "output_type": "stream",
     "text": [
      "Start TrainModel\n",
      "Folder is already there\n",
      "だいこん\n",
      "にんじん\n",
      "キャベツ\n",
      "レタス\n",
      "はくさい\n",
      "こまつな\n",
      "ほうれんそう\n",
      "ねぎ\n",
      "きゅうり\n",
      "トマト\n",
      "ピーマン\n",
      "じゃがいも\n",
      "なましいたけ\n",
      "セルリー\n",
      "そらまめ\n",
      "ミニトマト\n"
     ]
    },
    {
     "data": {
      "text/plain": [
       "(16349, 225)"
      ]
     },
     "metadata": {},
     "output_type": "display_data"
    },
    {
     "name": "stdout",
     "output_type": "stream",
     "text": [
      "だいこん\n",
      "にんじん\n",
      "キャベツ\n",
      "レタス\n",
      "はくさい\n",
      "こまつな\n",
      "ほうれんそう\n",
      "ねぎ\n",
      "きゅうり\n",
      "トマト\n",
      "ピーマン\n",
      "じゃがいも\n",
      "なましいたけ\n",
      "セルリー\n",
      "そらまめ\n",
      "ミニトマト\n"
     ]
    },
    {
     "data": {
      "text/plain": [
       "(16349, 225)"
      ]
     },
     "metadata": {},
     "output_type": "display_data"
    }
   ],
   "source": [
    "lag_monthly_aggregation = [1, 2, 3, 4, 5, 6, 7, 8, 9, 10, 11, 12]\n",
    "lag_daily_modeprice = [30, 40, 50, 60]\n",
    "\n",
    "\n",
    "vege = TrainModel()\n",
    "train_df = vege.generate_model_data_2(\n",
    "    file_name='model_input_data_daily',\n",
    "    _lag_list=lag_monthly_aggregation,\n",
    "    _lag_list2 = lag_daily_modeprice, \n",
    "    save_as_csv=False,\n",
    "    for_submission=False\n",
    "    )\n",
    "\n",
    "test_df = vege.generate_model_data_2(\n",
    "    file_name='model_input_data_daily',\n",
    "    _lag_list=lag_monthly_aggregation,\n",
    "    _lag_list2 = lag_daily_modeprice, \n",
    "    save_as_csv=False,\n",
    "    for_submission=True\n",
    "    )\n",
    "\n",
    "#train_df.to_csv('../data/old/train_df_input.csv')\n",
    "#test_df.to_csv('../data/old/test_df_input.csv')\n",
    "\n",
    "#train_df = pd.read_csv('../data/old/train_df_input.csv')\n",
    "#test_df = pd.read_csv('../data/old/test_df_input.csv')"
   ]
  },
  {
   "cell_type": "code",
   "execution_count": 4,
   "metadata": {},
   "outputs": [],
   "source": [
    "grouping_by = 'kind'\n",
    "target_vege_type = set(train_df[grouping_by])\n",
    "\n",
    "Y_column_name = 'mode_price'\n",
    "X_column_name = set(train_df.head().select_dtypes(float).columns) - set([Y_column_name])"
   ]
  },
  {
   "cell_type": "code",
   "execution_count": 5,
   "metadata": {},
   "outputs": [],
   "source": [
    "setting = {\n",
    "    'CV': {\n",
    "        'n_splits' : 3,\n",
    "        'shuffle' : True, \n",
    "        'random_state' : 42\n",
    "    },\n",
    "    'model_params':{\n",
    "        'params': {\n",
    "            'objective': 'regression',\n",
    "            'metric': 'rmse',\n",
    "            'num_leaves': 100,\n",
    "            'max_depth': 10,\n",
    "            \"feature_fraction\": 0.8,\n",
    "            'subsample_freq': 1,\n",
    "            \"bagging_fraction\": 0.95,\n",
    "            'min_data_in_leaf': 2,\n",
    "            'learning_rate': 0.1,\n",
    "            \"boosting\": \"gbdt\",\n",
    "            \"lambda_l1\": 0.1,\n",
    "            \"lambda_l2\": 10,\n",
    "            \"random_state\": 42,\n",
    "            \"verbosity\" : -1\n",
    "        },\n",
    "        \"num_boost_round\": 5000,\n",
    "        \"verbose_eval\":-1\n",
    "    },\n",
    "    'data_processing' : {\n",
    "        'monthly lag' : lag_monthly_aggregation,\n",
    "        'daily lag ' : lag_daily_modeprice\n",
    "    }\n",
    "}\n"
   ]
  },
  {
   "cell_type": "code",
   "execution_count": 6,
   "metadata": {},
   "outputs": [
    {
     "name": "stdout",
     "output_type": "stream",
     "text": [
      "=== fold 0 MAE: {'RMSPE': 22.7654352190022}\n",
      "=== fold 1 MAE: {'RMSPE': 20.308165704813764}\n",
      "=== fold 2 MAE: {'RMSPE': 20.410980707909314}\n",
      "=== CV score: 21.16152721057509\n",
      "----------------------------------------------------\n",
      "command1: cd ../server/\n",
      "command2: mlflow ui --backend-store-uri sqlite:///mlruns.db\n",
      "=== fold 0 MAE: {'RMSPE': 15.700734041074432}\n",
      "=== fold 1 MAE: {'RMSPE': 15.166887036670138}\n",
      "=== fold 2 MAE: {'RMSPE': 15.862506853442756}\n",
      "=== CV score: 15.576709310395776\n",
      "----------------------------------------------------\n",
      "command1: cd ../server/\n",
      "command2: mlflow ui --backend-store-uri sqlite:///mlruns.db\n",
      "=== fold 0 MAE: {'RMSPE': 9.229311580739969}\n",
      "=== fold 1 MAE: {'RMSPE': 8.724565742672107}\n",
      "=== fold 2 MAE: {'RMSPE': 9.736498512253416}\n",
      "=== CV score: 9.230125278555164\n",
      "----------------------------------------------------\n",
      "command1: cd ../server/\n",
      "command2: mlflow ui --backend-store-uri sqlite:///mlruns.db\n"
     ]
    }
   ],
   "source": [
    "\n",
    "# 実験開始\n",
    "Project = Experiments('Submit test')\n",
    "\n",
    "res_list = []\n",
    "for vege_type in target_vege_type:\n",
    "    # 特定の野菜について取り出す\n",
    "    df = train_df[train_df[grouping_by] == vege_type].select_dtypes(\n",
    "        float).astype('float32')\n",
    "    # 'mode_price'に欠損がない部分を訓練データとして利用する\n",
    "    train = df[~df[Y_column_name].isna()]\n",
    "\n",
    "    # 目的変数の切り分け\n",
    "    X = train[X_column_name].to_numpy()\n",
    "    Y = train[Y_column_name].to_numpy()\n",
    "    \n",
    "    # settingの追加\n",
    "    setting['tag_info'] = {\n",
    "        'vege_type' : vege_type\n",
    "        }\n",
    "    \n",
    "    # モデルの学習実験\n",
    "    Project.ready_experiment(setting)\n",
    "    Project.start_experiment(X, Y)\n",
    "    \n",
    "    # 予測結果の出力\n",
    "    X_test = test_df[test_df['kind'] == vege_type][X_column_name].astype('float32')\n",
    "    \n",
    "    out = Project.best_model_predict(X_test.to_numpy())\n",
    "    \n",
    "    res_list.append(\n",
    "        pd.DataFrame(\n",
    "            {\n",
    "                'kind' : [vege_type] * len(out),\n",
    "                'date' : test_df[test_df['kind'] == vege_type].date.to_list(),\n",
    "                'mode_price' : out\n",
    "                }\n",
    "            ).sort_values(by = 'date')\n",
    "        )\n"
   ]
  },
  {
   "cell_type": "code",
   "execution_count": null,
   "metadata": {},
   "outputs": [],
   "source": [
    "out = pd.concat(res_list)\n",
    "out.columns = ['kind', 'date', 'mode_price']\n",
    "out.to_csv('../data/submit.csv', index = False)"
   ]
  },
  {
   "cell_type": "code",
   "execution_count": 21,
   "metadata": {},
   "outputs": [
    {
     "data": {
      "text/plain": [
       "{'CV': {'n_splits': 3, 'shuffle': True, 'random_state': 42},\n",
       " 'model_params': {'params': {'objective': 'regression',\n",
       "   'metric': 'rmse',\n",
       "   'num_leaves': 100,\n",
       "   'max_depth': 10,\n",
       "   'feature_fraction': 0.8,\n",
       "   'subsample_freq': 1,\n",
       "   'bagging_fraction': 0.95,\n",
       "   'min_data_in_leaf': 2,\n",
       "   'learning_rate': 0.1,\n",
       "   'boosting': 'gbdt',\n",
       "   'lambda_l1': 0.1,\n",
       "   'lambda_l2': 10,\n",
       "   'random_state': 42,\n",
       "   'verbosity': -1},\n",
       "  'num_boost_round': 5000,\n",
       "  'verbose_eval': -1},\n",
       " 'data_processing': {'monthly lag': [1, 2, 3, 4, 5, 6, 7, 8, 9, 10, 11, 12],\n",
       "  'daily lag ': [30, 40, 50, 60]},\n",
       " 'tag_info': {'vege_type': 'にんじん'}}"
      ]
     },
     "execution_count": 21,
     "metadata": {},
     "output_type": "execute_result"
    }
   ],
   "source": [
    "setting"
   ]
  },
  {
   "cell_type": "code",
   "execution_count": null,
   "metadata": {},
   "outputs": [],
   "source": []
  }
 ],
 "metadata": {
  "kernelspec": {
   "display_name": "Python 3.8.13 ('conda_py38')",
   "language": "python",
   "name": "python3"
  },
  "language_info": {
   "codemirror_mode": {
    "name": "ipython",
    "version": 3
   },
   "file_extension": ".py",
   "mimetype": "text/x-python",
   "name": "python",
   "nbconvert_exporter": "python",
   "pygments_lexer": "ipython3",
   "version": "3.8.13"
  },
  "orig_nbformat": 4,
  "vscode": {
   "interpreter": {
    "hash": "3bde98ef8fa1e663dc229e7ead5f65fddc164c0dab2fc22d4e7d4daf7dcee8d2"
   }
  }
 },
 "nbformat": 4,
 "nbformat_minor": 2
}
