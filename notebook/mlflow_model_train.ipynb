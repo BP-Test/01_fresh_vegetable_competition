{
 "cells": [
  {
   "cell_type": "code",
   "execution_count": 1,
   "metadata": {},
   "outputs": [
    {
     "name": "stderr",
     "output_type": "stream",
     "text": [
      "c:\\Users\\akihiro\\anaconda3\\envs\\conda_py38\\lib\\site-packages\\tqdm\\auto.py:22: TqdmWarning: IProgress not found. Please update jupyter and ipywidgets. See https://ipywidgets.readthedocs.io/en/stable/user_install.html\n",
      "  from .autonotebook import tqdm as notebook_tqdm\n"
     ]
    }
   ],
   "source": [
    "import sys\n",
    "sys.path.append('../src/')\n",
    "sys.dont_write_bytecode = True  # __pycache__ 生成を防ぐ\n",
    "\n",
    "from vege_train_memo import Model, Experiments\n",
    "from vege_train import TrainModel\n",
    "\n",
    "\n",
    "# default\n",
    "import numpy as np\n",
    "import pandas as pd\n",
    "\n",
    "# Manage experiments\n",
    "import mlflow\n",
    "\n",
    "# For training\n",
    "from sklearn.metrics import mean_absolute_error\n",
    "from sklearn.model_selection import KFold\n",
    "from sklearn.model_selection import train_test_split\n",
    "\n",
    "# import model framework\n",
    "import lightgbm as lgb\n",
    "\n",
    "\n",
    "# mlflow setting\n",
    "DB_PATH = '../server/mlruns.db'\n",
    "ARTIFACT_LOCATION = '../data/'\n",
    "EXPERIMENT_NAME = '02_model_train'\n"
   ]
  },
  {
   "cell_type": "markdown",
   "metadata": {},
   "source": [
    "## データ生成"
   ]
  },
  {
   "cell_type": "code",
   "execution_count": 27,
   "metadata": {},
   "outputs": [
    {
     "name": "stdout",
     "output_type": "stream",
     "text": [
      "Start TrainModel\n",
      "Folder is already there\n",
      "だいこん\n",
      "にんじん\n",
      "キャベツ\n",
      "レタス\n",
      "はくさい\n",
      "こまつな\n",
      "ほうれんそう\n",
      "ねぎ\n",
      "きゅうり\n",
      "トマト\n",
      "ピーマン\n",
      "じゃがいも\n",
      "なましいたけ\n",
      "セルリー\n",
      "そらまめ\n",
      "ミニトマト\n"
     ]
    },
    {
     "data": {
      "text/plain": [
       "(16349, 114)"
      ]
     },
     "metadata": {},
     "output_type": "display_data"
    }
   ],
   "source": [
    "lag_monthly_aggregation = [1,2,3,6,9,12]\n",
    "lag_daily_modeprice = [30]\n",
    "\n",
    "\n",
    "vege = TrainModel()\n",
    "all_df = vege.generate_model_data_2(\n",
    "    file_name='model_input_data_daily',\n",
    "    _lag_list=lag_monthly_aggregation,\n",
    "    _lag_list2 = lag_daily_modeprice, \n",
    "    save_as_csv=False\n",
    "    )"
   ]
  },
  {
   "cell_type": "code",
   "execution_count": 28,
   "metadata": {},
   "outputs": [
    {
     "name": "stdout",
     "output_type": "stream",
     "text": [
      "=== fold 0 MAE: {'RMSPE': 3.4008900007274834}\n",
      "=== fold 1 MAE: {'RMSPE': 2.7323761834605986}\n",
      "=== fold 2 MAE: {'RMSPE': 1.3853264091266975}\n",
      "=== CV score: 2.506197531104927\n",
      "----------------------------------------------------\n",
      "command1: cd ../server/\n",
      "command2: mlflow ui --backend-store-uri sqlite:///mlruns.db\n",
      "=== fold 0 MAE: {'RMSPE': 2.210605393523711}\n",
      "=== fold 1 MAE: {'RMSPE': 4.231226572878565}\n",
      "=== fold 2 MAE: {'RMSPE': 3.6562817063962747}\n",
      "=== CV score: 3.36603789093285\n",
      "----------------------------------------------------\n",
      "command1: cd ../server/\n",
      "command2: mlflow ui --backend-store-uri sqlite:///mlruns.db\n",
      "=== fold 0 MAE: {'RMSPE': 3.541903869047204}\n",
      "=== fold 1 MAE: {'RMSPE': 2.8848585674311233}\n",
      "=== fold 2 MAE: {'RMSPE': 3.8070200725099257}\n",
      "=== CV score: 3.4112608363294172\n",
      "----------------------------------------------------\n",
      "command1: cd ../server/\n",
      "command2: mlflow ui --backend-store-uri sqlite:///mlruns.db\n",
      "=== fold 0 MAE: {'RMSPE': 3.9588610536479276}\n",
      "=== fold 1 MAE: {'RMSPE': 1.7222547324056112}\n",
      "=== fold 2 MAE: {'RMSPE': 1.6913021745987082}\n",
      "=== CV score: 2.457472653550749\n",
      "----------------------------------------------------\n",
      "command1: cd ../server/\n",
      "command2: mlflow ui --backend-store-uri sqlite:///mlruns.db\n",
      "=== fold 0 MAE: {'RMSPE': 3.773791345993576}\n",
      "=== fold 1 MAE: {'RMSPE': 3.864281527427544}\n",
      "=== fold 2 MAE: {'RMSPE': 5.408384478825524}\n",
      "=== CV score: 4.348819117415548\n",
      "----------------------------------------------------\n",
      "command1: cd ../server/\n",
      "command2: mlflow ui --backend-store-uri sqlite:///mlruns.db\n",
      "=== fold 0 MAE: {'RMSPE': 1.1414321138065082}\n",
      "=== fold 1 MAE: {'RMSPE': 1.3730362526677595}\n",
      "=== fold 2 MAE: {'RMSPE': 3.183242419915982}\n",
      "=== CV score: 1.8992369287967499\n",
      "----------------------------------------------------\n",
      "command1: cd ../server/\n",
      "command2: mlflow ui --backend-store-uri sqlite:///mlruns.db\n",
      "=== fold 0 MAE: {'RMSPE': 1.4213967680303858}\n",
      "=== fold 1 MAE: {'RMSPE': 1.51251295261322}\n",
      "=== fold 2 MAE: {'RMSPE': 1.152036338578445}\n",
      "=== CV score: 1.3619820197406838\n",
      "----------------------------------------------------\n",
      "command1: cd ../server/\n",
      "command2: mlflow ui --backend-store-uri sqlite:///mlruns.db\n",
      "=== fold 0 MAE: {'RMSPE': 2.549445004711351}\n",
      "=== fold 1 MAE: {'RMSPE': 2.039284603710032}\n",
      "=== fold 2 MAE: {'RMSPE': 2.1366065416044746}\n",
      "=== CV score: 2.241778716675286\n",
      "----------------------------------------------------\n",
      "command1: cd ../server/\n",
      "command2: mlflow ui --backend-store-uri sqlite:///mlruns.db\n",
      "=== fold 0 MAE: {'RMSPE': 2.1199379607332123}\n",
      "=== fold 1 MAE: {'RMSPE': 2.6227766574218396}\n",
      "=== fold 2 MAE: {'RMSPE': 2.298003936760167}\n",
      "=== CV score: 2.3469061849717394\n",
      "----------------------------------------------------\n",
      "command1: cd ../server/\n",
      "command2: mlflow ui --backend-store-uri sqlite:///mlruns.db\n",
      "=== fold 0 MAE: {'RMSPE': 2.0979494734060298}\n",
      "=== fold 1 MAE: {'RMSPE': 1.813661062999622}\n",
      "=== fold 2 MAE: {'RMSPE': 2.232900272214155}\n",
      "=== CV score: 2.0481702695399355\n",
      "----------------------------------------------------\n",
      "command1: cd ../server/\n",
      "command2: mlflow ui --backend-store-uri sqlite:///mlruns.db\n",
      "=== fold 0 MAE: {'RMSPE': 2.7218427952175763}\n",
      "=== fold 1 MAE: {'RMSPE': 3.0259551376165925}\n",
      "=== fold 2 MAE: {'RMSPE': 2.627819220798923}\n",
      "=== CV score: 2.791872384544364\n",
      "----------------------------------------------------\n",
      "command1: cd ../server/\n",
      "command2: mlflow ui --backend-store-uri sqlite:///mlruns.db\n",
      "=== fold 0 MAE: {'RMSPE': 3.1871502754817134}\n",
      "=== fold 1 MAE: {'RMSPE': 4.02246284130324}\n",
      "=== fold 2 MAE: {'RMSPE': 6.297960488642198}\n",
      "=== CV score: 4.502524535142384\n",
      "----------------------------------------------------\n",
      "command1: cd ../server/\n",
      "command2: mlflow ui --backend-store-uri sqlite:///mlruns.db\n",
      "=== fold 0 MAE: {'RMSPE': 2.8698762623149534}\n",
      "=== fold 1 MAE: {'RMSPE': 1.8427242098398526}\n",
      "=== fold 2 MAE: {'RMSPE': 2.59022510079224}\n",
      "=== CV score: 2.434275190982349\n",
      "----------------------------------------------------\n",
      "command1: cd ../server/\n",
      "command2: mlflow ui --backend-store-uri sqlite:///mlruns.db\n",
      "=== fold 0 MAE: {'RMSPE': 0.8444353706758291}\n",
      "=== fold 1 MAE: {'RMSPE': 1.9500845709716335}\n",
      "=== fold 2 MAE: {'RMSPE': 3.5511182559977246}\n",
      "=== CV score: 2.1152127325483954\n",
      "----------------------------------------------------\n",
      "command1: cd ../server/\n",
      "command2: mlflow ui --backend-store-uri sqlite:///mlruns.db\n",
      "=== fold 0 MAE: {'RMSPE': 1.4521201991072052}\n",
      "=== fold 1 MAE: {'RMSPE': 1.9044274728363435}\n",
      "=== fold 2 MAE: {'RMSPE': 3.9330575982371636}\n",
      "=== CV score: 2.429868423393571\n",
      "----------------------------------------------------\n",
      "command1: cd ../server/\n",
      "command2: mlflow ui --backend-store-uri sqlite:///mlruns.db\n",
      "=== fold 0 MAE: {'RMSPE': 3.3532259747332627}\n",
      "=== fold 1 MAE: {'RMSPE': 4.039383412145371}\n",
      "=== fold 2 MAE: {'RMSPE': 4.396080637040281}\n",
      "=== CV score: 3.9295633413063054\n",
      "----------------------------------------------------\n",
      "command1: cd ../server/\n",
      "command2: mlflow ui --backend-store-uri sqlite:///mlruns.db\n"
     ]
    }
   ],
   "source": [
    "# データの読み込み\n",
    "#all_df = pd.read_csv('../data/model_input_data.csv')  # , index_col=0)\n",
    "\n",
    "\n",
    "grouping_by = 'kind'\n",
    "target_vege_type = set(all_df[grouping_by])\n",
    "\n",
    "Y_column_name = 'mode_price'\n",
    "X_column_name = set(all_df.head().select_dtypes(\n",
    "    float).columns) - set(Y_column_name)\n",
    "\n",
    "\n",
    "setting = {\n",
    "    'CV': {\n",
    "        'n_splits' : 3,\n",
    "        'shuffle' : True, \n",
    "        'random_state' : 42\n",
    "    },\n",
    "    'model_params':{\n",
    "        'params': {\n",
    "            'objective': 'regression',\n",
    "            'verbose': -1,\n",
    "        },\n",
    "        'num_boost_round' : 100,\n",
    "        'verbose_eval' : -1\n",
    "    },\n",
    "    'data_provessing' : {\n",
    "        'monthly lag' : lag_monthly_aggregation,\n",
    "        'daily lag ' : lag_daily_modeprice\n",
    "    }\n",
    "}\n",
    "\n",
    "for vege_type in target_vege_type:\n",
    "    # 特定の野菜について取り出す\n",
    "    df = all_df[all_df[grouping_by] == vege_type].select_dtypes(\n",
    "        float).astype('float32')\n",
    "    # 'mode_price'に欠損がない部分を訓練データとして利用する\n",
    "    train = df[~df[Y_column_name].isna()]\n",
    "\n",
    "    # 目的変数の切り分け\n",
    "    X = train[X_column_name].to_numpy()\n",
    "    Y = train[Y_column_name].to_numpy()\n",
    "    \n",
    "    # settingの追加\n",
    "    setting['tag_info'] = {\n",
    "        'vege_type' : vege_type\n",
    "        }\n",
    "    \n",
    "    Project = Experiments('Project3')\n",
    "    Project.ready_experiment(setting)\n",
    "    Project.start_experiment(X, Y)\n",
    "\n",
    "    #X_train, X_val, y_train, y_val = train_test_split(X_train, Y_train, test_size = 0.2)"
   ]
  },
  {
   "cell_type": "code",
   "execution_count": 6,
   "metadata": {},
   "outputs": [
    {
     "data": {
      "text/plain": [
       "{'きゅうり',\n",
       " 'こまつな',\n",
       " 'じゃがいも',\n",
       " 'そらまめ',\n",
       " 'だいこん',\n",
       " 'なましいたけ',\n",
       " 'にんじん',\n",
       " 'ねぎ',\n",
       " 'はくさい',\n",
       " 'ほうれんそう',\n",
       " 'キャベツ',\n",
       " 'セルリー',\n",
       " 'トマト',\n",
       " 'ピーマン',\n",
       " 'ミニトマト',\n",
       " 'レタス'}"
      ]
     },
     "execution_count": 6,
     "metadata": {},
     "output_type": "execute_result"
    }
   ],
   "source": [
    "target_vege_type"
   ]
  },
  {
   "cell_type": "markdown",
   "metadata": {},
   "source": [
    "## クラスの確認"
   ]
  },
  {
   "cell_type": "code",
   "execution_count": 3,
   "metadata": {},
   "outputs": [],
   "source": [
    "setting = {\n",
    "    'CV': {\n",
    "        'n_splits' : 3,\n",
    "        'shuffle' : True, \n",
    "        'random_state' : 42\n",
    "    },\n",
    "    'model_params':{\n",
    "        'params': {\n",
    "            'objective': 'regression',\n",
    "            'verbose': -1,\n",
    "        },\n",
    "        'num_boost_round' : 100,\n",
    "        'verbose_eval' : -1\n",
    "    },\n",
    "    'tag_info' : {\n",
    "        'vege_type' : vege_type\n",
    "        }\n",
    "}"
   ]
  },
  {
   "cell_type": "markdown",
   "metadata": {},
   "source": [
    "#### モデルの学習・管理"
   ]
  },
  {
   "cell_type": "code",
   "execution_count": 4,
   "metadata": {},
   "outputs": [
    {
     "name": "stdout",
     "output_type": "stream",
     "text": [
      "=== fold 0 MAE: {'RMSPE': 13.612173383417758}\n",
      "=== fold 1 MAE: {'RMSPE': 9.47851963451}\n",
      "=== fold 2 MAE: {'RMSPE': 5.788595616814067}\n",
      "=== CV score: 9.626429544913941\n",
      "----------------------------------------------------\n",
      "command1: cd ../server/\n",
      "command2: mlflow ui --backend-store-uri sqlite:///mlruns.db\n"
     ]
    }
   ],
   "source": [
    "Project = Experiments('project1')\n",
    "Project.ready_experiment(setting)\n",
    "Project.start_experiment(X, Y)"
   ]
  },
  {
   "cell_type": "markdown",
   "metadata": {},
   "source": [
    "## 元コード（メモ）"
   ]
  },
  {
   "cell_type": "code",
   "execution_count": 5,
   "metadata": {},
   "outputs": [],
   "source": [
    "# トラッキングサーバの（バックエンドの）場所を指定\n",
    "TRACKING_URL = f'sqlite:///{DB_PATH}'\n",
    "mlflow.set_tracking_uri(TRACKING_URL)\n",
    "\n",
    "\n",
    "# Experimentの生成\n",
    "experiment = mlflow.get_experiment_by_name(EXPERIMENT_NAME)\n",
    "\n",
    "# experiment IDの取得\n",
    "if experiment is None:\n",
    "    # 当該Experiment存在しないとき、新たに作成\n",
    "    experiment_id = mlflow.create_experiment(\n",
    "        name=EXPERIMENT_NAME,\n",
    "        artifact_location=ARTIFACT_LOCATION)\n",
    "else:\n",
    "    # 当該Experiment存在するとき、IDを取得\n",
    "    experiment_id = experiment.experiment_id"
   ]
  },
  {
   "cell_type": "code",
   "execution_count": 6,
   "metadata": {},
   "outputs": [
    {
     "ename": "AttributeError",
     "evalue": "'Model' object has no attribute 'Dataset'",
     "output_type": "error",
     "traceback": [
      "\u001b[1;31m---------------------------------------------------------------------------\u001b[0m",
      "\u001b[1;31mAttributeError\u001b[0m                            Traceback (most recent call last)",
      "\u001b[1;32mセル9 を c:\\Users\\akihiro\\OneDrive\\ドキュメント\\Proj\\01_fresh_vegetable_competition\\notebook\\mlflow_model_train.ipynb\u001b[0m in \u001b[0;36m<cell line: 18>\u001b[1;34m()\u001b[0m\n\u001b[0;32m     <a href='vscode-notebook-cell:/c%3A/Users/akihiro/OneDrive/%E3%83%89%E3%82%AD%E3%83%A5%E3%83%A1%E3%83%B3%E3%83%88/Proj/01_fresh_vegetable_competition/notebook/mlflow_model_train.ipynb#ch0000007?line=28'>29</a>\u001b[0m y_train, y_valid \u001b[39m=\u001b[39m Y[train_indices], Y[valid_indices]\n\u001b[0;32m     <a href='vscode-notebook-cell:/c%3A/Users/akihiro/OneDrive/%E3%83%89%E3%82%AD%E3%83%A5%E3%83%A1%E3%83%B3%E3%83%88/Proj/01_fresh_vegetable_competition/notebook/mlflow_model_train.ipynb#ch0000007?line=30'>31</a>\u001b[0m \u001b[39m# Convert data for LightGMB\u001b[39;00m\n\u001b[1;32m---> <a href='vscode-notebook-cell:/c%3A/Users/akihiro/OneDrive/%E3%83%89%E3%82%AD%E3%83%A5%E3%83%A1%E3%83%B3%E3%83%88/Proj/01_fresh_vegetable_competition/notebook/mlflow_model_train.ipynb#ch0000007?line=31'>32</a>\u001b[0m lgb_train \u001b[39m=\u001b[39m model\u001b[39m.\u001b[39;49mDataset(X_train, y_train)\n\u001b[0;32m     <a href='vscode-notebook-cell:/c%3A/Users/akihiro/OneDrive/%E3%83%89%E3%82%AD%E3%83%A5%E3%83%A1%E3%83%B3%E3%83%88/Proj/01_fresh_vegetable_competition/notebook/mlflow_model_train.ipynb#ch0000007?line=32'>33</a>\u001b[0m lgb_eval \u001b[39m=\u001b[39m model\u001b[39m.\u001b[39mDataset(X_valid, y_valid)\n\u001b[0;32m     <a href='vscode-notebook-cell:/c%3A/Users/akihiro/OneDrive/%E3%83%89%E3%82%AD%E3%83%A5%E3%83%A1%E3%83%B3%E3%83%88/Proj/01_fresh_vegetable_competition/notebook/mlflow_model_train.ipynb#ch0000007?line=34'>35</a>\u001b[0m \u001b[39m# model train\u001b[39;00m\n",
      "\u001b[1;31mAttributeError\u001b[0m: 'Model' object has no attribute 'Dataset'"
     ]
    }
   ],
   "source": [
    "FOLD = 5\n",
    "\n",
    "\n",
    "valid_scores = []\n",
    "models = []\n",
    "kf = KFold(n_splits=FOLD, shuffle=True, random_state=42)\n",
    "\n",
    "\n",
    "param_dict = {\n",
    "    'params': {\n",
    "        'objective': 'regression',\n",
    "        'verbose': -1,\n",
    "    },\n",
    "    'num_boost_round' : 100,\n",
    "    'verbose_eval' : -1\n",
    "}\n",
    "\n",
    "with mlflow.start_run(experiment_id=experiment_id) as run:\n",
    "    \n",
    "    # モデルの学習に利用したパラメータを記録\n",
    "    mlflow.log_params(\n",
    "        param_dict\n",
    "        )\n",
    "    \n",
    "    model = Model(param_dict)\n",
    "    \n",
    "    for fold, (train_indices, valid_indices) in enumerate(kf.split(X)):\n",
    "        X_train, X_valid = X[train_indices], X[valid_indices]\n",
    "        y_train, y_valid = Y[train_indices], Y[valid_indices]\n",
    "\n",
    "        # Convert data for LightGMB\n",
    "        lgb_train = model.Dataset(X_train, y_train)\n",
    "        lgb_eval = model.Dataset(X_valid, y_valid)\n",
    "\n",
    "        # model train\n",
    "        model.train(\n",
    "            train_data = lgb_train, \n",
    "            valid_data = lgb_eval\n",
    "            )\n",
    "        \n",
    "        # 予測\n",
    "        y_valid_pred = model.predict(X_valid)\n",
    "\n",
    "        # calc score\n",
    "        score = mean_absolute_error(y_valid, y_valid_pred)\n",
    "        \n",
    "        # record\n",
    "        mlflow.log_metrics(\n",
    "            {\n",
    "                'fold score' : score\n",
    "            },\n",
    "            step = fold\n",
    "        )\n",
    "        print(f'fold {fold} MAE: {score}')\n",
    "        valid_scores.append(score)\n",
    "        #models.append(model)\n",
    "    \n",
    "    # Get mean of model scores\n",
    "    cv_score = np.mean(valid_scores)\n",
    "    mlflow.log_metrics(\n",
    "        {\n",
    "            'CV_score' : cv_score\n",
    "        }\n",
    "    )\n",
    "    print(f'CV score: {cv_score}')\n"
   ]
  },
  {
   "cell_type": "code",
   "execution_count": null,
   "metadata": {},
   "outputs": [],
   "source": []
  }
 ],
 "metadata": {
  "kernelspec": {
   "display_name": "Python 3.8.13 ('conda_py38')",
   "language": "python",
   "name": "python3"
  },
  "language_info": {
   "codemirror_mode": {
    "name": "ipython",
    "version": 3
   },
   "file_extension": ".py",
   "mimetype": "text/x-python",
   "name": "python",
   "nbconvert_exporter": "python",
   "pygments_lexer": "ipython3",
   "version": "3.8.13"
  },
  "orig_nbformat": 4,
  "vscode": {
   "interpreter": {
    "hash": "3bde98ef8fa1e663dc229e7ead5f65fddc164c0dab2fc22d4e7d4daf7dcee8d2"
   }
  }
 },
 "nbformat": 4,
 "nbformat_minor": 2
}
