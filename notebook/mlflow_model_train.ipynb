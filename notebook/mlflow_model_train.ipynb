{
 "cells": [
  {
   "cell_type": "code",
   "execution_count": 1,
   "metadata": {},
   "outputs": [],
   "source": [
    "import sys\n",
    "sys.path.append('../src/')\n",
    "sys.dont_write_bytecode = True  # __pycache__ 生成を防ぐ\n",
    "from vege_train_memo import Model, Experiments\n",
    "\n",
    "\n",
    "# default\n",
    "import numpy as np\n",
    "import pandas as pd\n",
    "\n",
    "# Manage experiments\n",
    "import mlflow\n",
    "\n",
    "# For training\n",
    "from sklearn.metrics import mean_absolute_error\n",
    "from sklearn.model_selection import KFold\n",
    "from sklearn.model_selection import train_test_split\n",
    "\n",
    "# import model framework\n",
    "import lightgbm as lgb\n",
    "\n",
    "\n",
    "# mlflow setting\n",
    "DB_PATH = '../server/mlruns.db'\n",
    "ARTIFACT_LOCATION = '../data/'\n",
    "EXPERIMENT_NAME = '02_model_train'\n"
   ]
  },
  {
   "cell_type": "code",
   "execution_count": 2,
   "metadata": {},
   "outputs": [],
   "source": [
    "# データの読み込み\n",
    "all_df = pd.read_csv('../data/model_input_data.csv')  # , index_col=0)\n",
    "\n",
    "\n",
    "grouping_by = 'kind'\n",
    "target_vege_type = set(all_df[grouping_by])\n",
    "\n",
    "Y_column_name = 'mode_price'\n",
    "X_column_name = set(all_df.head().select_dtypes(\n",
    "    float).columns) - set(Y_column_name)\n",
    "\n",
    "for vege_type in target_vege_type:\n",
    "    # 特定の野菜について取り出す\n",
    "    df = all_df[all_df[grouping_by] == vege_type].select_dtypes(\n",
    "        float).astype('float32')\n",
    "    # 'mode_price'に欠損がない部分を訓練データとして利用する\n",
    "    train = df[~df[Y_column_name].isna()]\n",
    "\n",
    "    # 目的変数の切り分け\n",
    "    X = train[X_column_name].to_numpy()\n",
    "    Y = train[Y_column_name].to_numpy()\n",
    "\n",
    "    #X_train, X_val, y_train, y_val = train_test_split(X_train, Y_train, test_size = 0.2)"
   ]
  },
  {
   "cell_type": "markdown",
   "metadata": {},
   "source": [
    "## クラスの確認"
   ]
  },
  {
   "cell_type": "code",
   "execution_count": 3,
   "metadata": {},
   "outputs": [],
   "source": [
    "setting = {\n",
    "    'CV': {\n",
    "        'n_splits' : 3,\n",
    "        'shuffle' : True, \n",
    "        'random_state' : 42\n",
    "    },\n",
    "    'model_params':{\n",
    "        'params': {\n",
    "            'objective': 'regression',\n",
    "            'verbose': -1,\n",
    "        },\n",
    "        'num_boost_round' : 100,\n",
    "        'verbose_eval' : -1\n",
    "    }\n",
    "}"
   ]
  },
  {
   "cell_type": "code",
   "execution_count": 4,
   "metadata": {},
   "outputs": [
    {
     "name": "stdout",
     "output_type": "stream",
     "text": [
      "=== fold 0 MAE: 236.32672424316405\n",
      "=== fold 1 MAE: 324.5181952582466\n",
      "=== fold 2 MAE: 292.5000305175781\n",
      "=== CV score: 284.44831667299627\n",
      "----------------------------------------------------\n",
      "command1: cd ../server/\n",
      "command2: mlflow ui --backend-store-uri sqlite:///mlruns.db\n"
     ]
    }
   ],
   "source": [
    "Project = Experiments('project1')\n",
    "Project.Ready_experiment(setting)\n",
    "Project.Start_experiment(X, Y)"
   ]
  },
  {
   "cell_type": "markdown",
   "metadata": {},
   "source": [
    "## 元コード（メモ）"
   ]
  },
  {
   "cell_type": "code",
   "execution_count": 5,
   "metadata": {},
   "outputs": [],
   "source": [
    "# トラッキングサーバの（バックエンドの）場所を指定\n",
    "TRACKING_URL = f'sqlite:///{DB_PATH}'\n",
    "mlflow.set_tracking_uri(TRACKING_URL)\n",
    "\n",
    "\n",
    "# Experimentの生成\n",
    "experiment = mlflow.get_experiment_by_name(EXPERIMENT_NAME)\n",
    "\n",
    "# experiment IDの取得\n",
    "if experiment is None:\n",
    "    # 当該Experiment存在しないとき、新たに作成\n",
    "    experiment_id = mlflow.create_experiment(\n",
    "        name=EXPERIMENT_NAME,\n",
    "        artifact_location=ARTIFACT_LOCATION)\n",
    "else:\n",
    "    # 当該Experiment存在するとき、IDを取得\n",
    "    experiment_id = experiment.experiment_id"
   ]
  },
  {
   "cell_type": "code",
   "execution_count": 6,
   "metadata": {},
   "outputs": [
    {
     "name": "stdout",
     "output_type": "stream",
     "text": [
      "fold 0 MAE: 224.253251139323\n",
      "fold 1 MAE: 145.63805745442718\n",
      "fold 2 MAE: 425.36007080078116\n",
      "fold 3 MAE: 385.71429443359375\n",
      "fold 4 MAE: 213.31964666193198\n",
      "CV score: 278.8570640980114\n"
     ]
    }
   ],
   "source": [
    "FOLD = 5\n",
    "\n",
    "\n",
    "valid_scores = []\n",
    "models = []\n",
    "kf = KFold(n_splits=FOLD, shuffle=True, random_state=42)\n",
    "\n",
    "\n",
    "param_dict = {\n",
    "    'params': {\n",
    "        'objective': 'regression',\n",
    "        'verbose': -1,\n",
    "    },\n",
    "    'num_boost_round' : 100,\n",
    "    'verbose_eval' : -1\n",
    "}\n",
    "\n",
    "with mlflow.start_run(experiment_id=experiment_id) as run:\n",
    "    \n",
    "    # モデルの学習に利用したパラメータを記録\n",
    "    mlflow.log_params(\n",
    "        param_dict\n",
    "        )\n",
    "    \n",
    "    model = Model(param_dict)\n",
    "    \n",
    "    for fold, (train_indices, valid_indices) in enumerate(kf.split(X)):\n",
    "        X_train, X_valid = X[train_indices], X[valid_indices]\n",
    "        y_train, y_valid = Y[train_indices], Y[valid_indices]\n",
    "\n",
    "        # Convert data for LightGMB\n",
    "        lgb_train = model.Dataset(X_train, y_train)\n",
    "        lgb_eval = model.Dataset(X_valid, y_valid)\n",
    "\n",
    "        # model train\n",
    "        model.train(\n",
    "            train_data = lgb_train, \n",
    "            valid_data = lgb_eval\n",
    "            )\n",
    "        \n",
    "        # 予測\n",
    "        y_valid_pred = model.predict(X_valid)\n",
    "\n",
    "        # calc score\n",
    "        score = mean_absolute_error(y_valid, y_valid_pred)\n",
    "        \n",
    "        # record\n",
    "        mlflow.log_metrics(\n",
    "            {\n",
    "                'fold score' : score\n",
    "            },\n",
    "            step = fold\n",
    "        )\n",
    "        print(f'fold {fold} MAE: {score}')\n",
    "        valid_scores.append(score)\n",
    "        #models.append(model)\n",
    "    \n",
    "    # Get mean of model scores\n",
    "    cv_score = np.mean(valid_scores)\n",
    "    mlflow.log_metrics(\n",
    "        {\n",
    "            'CV_score' : cv_score\n",
    "        }\n",
    "    )\n",
    "    print(f'CV score: {cv_score}')\n"
   ]
  },
  {
   "cell_type": "code",
   "execution_count": null,
   "metadata": {},
   "outputs": [],
   "source": []
  }
 ],
 "metadata": {
  "kernelspec": {
   "display_name": "Python 3.8.13 ('conda_py38')",
   "language": "python",
   "name": "python3"
  },
  "language_info": {
   "codemirror_mode": {
    "name": "ipython",
    "version": 3
   },
   "file_extension": ".py",
   "mimetype": "text/x-python",
   "name": "python",
   "nbconvert_exporter": "python",
   "pygments_lexer": "ipython3",
   "version": "3.8.13"
  },
  "orig_nbformat": 4,
  "vscode": {
   "interpreter": {
    "hash": "3bde98ef8fa1e663dc229e7ead5f65fddc164c0dab2fc22d4e7d4daf7dcee8d2"
   }
  }
 },
 "nbformat": 4,
 "nbformat_minor": 2
}
